{
 "cells": [
  {
   "cell_type": "code",
   "execution_count": 6,
   "id": "f01dbfa7",
   "metadata": {},
   "outputs": [],
   "source": [
    "import requests\n",
    "import pandas as pd\n",
    "from bs4 import BeautifulSoup"
   ]
  },
  {
   "cell_type": "code",
   "execution_count": 7,
   "id": "e9620c0d",
   "metadata": {},
   "outputs": [],
   "source": [
    "url = 'https://webpages.charlotte.edu/mscipion/'"
   ]
  },
  {
   "cell_type": "code",
   "execution_count": 8,
   "id": "61041eeb",
   "metadata": {},
   "outputs": [],
   "source": [
    "response = requests.get(url)"
   ]
  },
  {
   "cell_type": "code",
   "execution_count": 10,
   "id": "c5df4705",
   "metadata": {},
   "outputs": [],
   "source": [
    "soup = BeautifulSoup(response.text, \"html.parser\")"
   ]
  },
  {
   "cell_type": "code",
   "execution_count": 11,
   "id": "6da3dac0",
   "metadata": {},
   "outputs": [],
   "source": [
    "table = soup.find ('table')"
   ]
  },
  {
   "cell_type": "code",
   "execution_count": 12,
   "id": "612685d3",
   "metadata": {},
   "outputs": [],
   "source": [
    "data = []"
   ]
  },
  {
   "cell_type": "code",
   "execution_count": 14,
   "id": "4513abb6",
   "metadata": {},
   "outputs": [],
   "source": [
    "for row in table.find_all('tr')[1:]:\n",
    "    columns = row.find_all('td')\n",
    "    student = columns[0].get_text(strip=True)\n",
    "    language = columns[1].get_text(strip=True)\n",
    "    experience = int(columns[2].get_text(strip=True))\n",
    "    data.append([student, language, experience])"
   ]
  },
  {
   "cell_type": "code",
   "execution_count": 15,
   "id": "c1c7c53e",
   "metadata": {},
   "outputs": [],
   "source": [
    "columns = ['Student', 'Favourite Computer Language', 'Years of Experience']\n",
    "df = pd.DataFrame(data, columns=columns)"
   ]
  },
  {
   "cell_type": "code",
   "execution_count": 16,
   "id": "d0c57067",
   "metadata": {},
   "outputs": [
    {
     "name": "stdout",
     "output_type": "stream",
     "text": [
      "  Student Favourite Computer Language  Years of Experience\n",
      "0    Fred                      Kotlin                    4\n",
      "1   Paula                      Python                    2\n",
      "2   Ernst                        Java                    7\n",
      "3  Isabel                         C++                    3\n",
      "4    Tony                       Pearl                    7\n",
      "5   Maria                       Cobol                   15\n"
     ]
    }
   ],
   "source": [
    "print(df)"
   ]
  },
  {
   "cell_type": "code",
   "execution_count": 17,
   "id": "1a075c79",
   "metadata": {},
   "outputs": [],
   "source": [
    "df.to_csv('student_data.csv', index=False)"
   ]
  },
  {
   "cell_type": "code",
   "execution_count": null,
   "id": "96b26b7b",
   "metadata": {},
   "outputs": [],
   "source": []
  }
 ],
 "metadata": {
  "kernelspec": {
   "display_name": "Python 3 (ipykernel)",
   "language": "python",
   "name": "python3"
  },
  "language_info": {
   "codemirror_mode": {
    "name": "ipython",
    "version": 3
   },
   "file_extension": ".py",
   "mimetype": "text/x-python",
   "name": "python",
   "nbconvert_exporter": "python",
   "pygments_lexer": "ipython3",
   "version": "3.11.5"
  }
 },
 "nbformat": 4,
 "nbformat_minor": 5
}
